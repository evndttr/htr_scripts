{
  "nbformat": 4,
  "nbformat_minor": 0,
  "metadata": {
    "colab": {
      "provenance": [],
      "authorship_tag": "ABX9TyMcjwvxsYUewZ97hOPp9qFL",
      "include_colab_link": true
    },
    "kernelspec": {
      "name": "python3",
      "display_name": "Python 3"
    },
    "language_info": {
      "name": "python"
    }
  },
  "cells": [
    {
      "cell_type": "markdown",
      "metadata": {
        "id": "view-in-github",
        "colab_type": "text"
      },
      "source": [
        "<a href=\"https://colab.research.google.com/github/evndttr/htr_scripts/blob/main/Passim_with_ALTO_xml_example.ipynb\" target=\"_parent\"><img src=\"https://colab.research.google.com/assets/colab-badge.svg\" alt=\"Open In Colab\"/></a>"
      ]
    },
    {
      "cell_type": "code",
      "execution_count": 2,
      "metadata": {
        "colab": {
          "base_uri": "https://localhost:8080/"
        },
        "id": "zHHUqky8_JSA",
        "outputId": "42d65138-fa0b-4ece-f9ac-d84ed2e183f7"
      },
      "outputs": [
        {
          "output_type": "stream",
          "name": "stdout",
          "text": [
            "openjdk 11.0.28 2025-07-15\n",
            "OpenJDK Runtime Environment (build 11.0.28+6-post-Ubuntu-1ubuntu122.04.1)\n",
            "OpenJDK 64-Bit Server VM (build 11.0.28+6-post-Ubuntu-1ubuntu122.04.1, mixed mode, sharing)\n"
          ]
        }
      ],
      "source": [
        "!java --version"
      ]
    },
    {
      "cell_type": "code",
      "source": [
        "!pip install git+https://github.com/dasmiq/passim.git"
      ],
      "metadata": {
        "colab": {
          "base_uri": "https://localhost:8080/"
        },
        "id": "l8od6Bd6_Lh2",
        "outputId": "8a7f47cc-f15e-477a-c2ad-94fde25fb527"
      },
      "execution_count": 3,
      "outputs": [
        {
          "output_type": "stream",
          "name": "stdout",
          "text": [
            "Collecting git+https://github.com/dasmiq/passim.git\n",
            "  Cloning https://github.com/dasmiq/passim.git to /tmp/pip-req-build-lxr41avr\n",
            "  Running command git clone --filter=blob:none --quiet https://github.com/dasmiq/passim.git /tmp/pip-req-build-lxr41avr\n",
            "  Resolved https://github.com/dasmiq/passim.git to commit e4eea1c89c4182094d119047c85032cd9163ea17\n",
            "  Preparing metadata (setup.py) ... \u001b[?25l\u001b[?25hdone\n",
            "Requirement already satisfied: pyspark>=3.5.1 in /usr/local/lib/python3.12/dist-packages (from passim==2.0.0) (3.5.1)\n",
            "Collecting graphframes (from passim==2.0.0)\n",
            "  Downloading graphframes-0.6-py2.py3-none-any.whl.metadata (934 bytes)\n",
            "Collecting intervaltree (from passim==2.0.0)\n",
            "  Downloading intervaltree-3.1.0.tar.gz (32 kB)\n",
            "  Preparing metadata (setup.py) ... \u001b[?25l\u001b[?25hdone\n",
            "Requirement already satisfied: py4j==0.10.9.7 in /usr/local/lib/python3.12/dist-packages (from pyspark>=3.5.1->passim==2.0.0) (0.10.9.7)\n",
            "Requirement already satisfied: numpy in /usr/local/lib/python3.12/dist-packages (from graphframes->passim==2.0.0) (2.0.2)\n",
            "Collecting nose (from graphframes->passim==2.0.0)\n",
            "  Downloading nose-1.3.7-py3-none-any.whl.metadata (1.7 kB)\n",
            "Requirement already satisfied: sortedcontainers<3.0,>=2.0 in /usr/local/lib/python3.12/dist-packages (from intervaltree->passim==2.0.0) (2.4.0)\n",
            "Downloading graphframes-0.6-py2.py3-none-any.whl (18 kB)\n",
            "Downloading nose-1.3.7-py3-none-any.whl (154 kB)\n",
            "\u001b[2K   \u001b[90m━━━━━━━━━━━━━━━━━━━━━━━━━━━━━━━━━━━━━━━━\u001b[0m \u001b[32m154.7/154.7 kB\u001b[0m \u001b[31m6.4 MB/s\u001b[0m eta \u001b[36m0:00:00\u001b[0m\n",
            "\u001b[?25hBuilding wheels for collected packages: passim, intervaltree\n",
            "  Building wheel for passim (setup.py) ... \u001b[?25l\u001b[?25hdone\n",
            "  Created wheel for passim: filename=passim-2.0.0-py3-none-any.whl size=15556 sha256=8290a6b426d14585121289a6720decafcb6a0486ad5b7497bbd70635e2b77ef1\n",
            "  Stored in directory: /tmp/pip-ephem-wheel-cache-xu7axh9e/wheels/b0/51/a2/50fb4f12befcc05270d5ad947734813b1e14df43e9f21862ad\n",
            "  Building wheel for intervaltree (setup.py) ... \u001b[?25l\u001b[?25hdone\n",
            "  Created wheel for intervaltree: filename=intervaltree-3.1.0-py2.py3-none-any.whl size=26098 sha256=1dcbbdf1f9fe607ae12f0d050ea21edad76648201ed39e2928507bdbb1ec726a\n",
            "  Stored in directory: /root/.cache/pip/wheels/65/c3/c3/238bf93c243597857edd94ddb0577faa74a8e16e9585896e83\n",
            "Successfully built passim intervaltree\n",
            "Installing collected packages: nose, intervaltree, graphframes, passim\n",
            "Successfully installed graphframes-0.6 intervaltree-3.1.0 nose-1.3.7 passim-2.0.0\n"
          ]
        }
      ]
    },
    {
      "cell_type": "code",
      "source": [
        "!seriatim --help"
      ],
      "metadata": {
        "colab": {
          "base_uri": "https://localhost:8080/"
        },
        "id": "1W47z55p_M7J",
        "outputId": "a4262c43-bdeb-4530-fbae-38f3ccb90e15"
      },
      "execution_count": 4,
      "outputs": [
        {
          "output_type": "stream",
          "name": "stdout",
          "text": [
            "https://repos.spark-packages.org/ added as a remote repository with the name: repo-1\n",
            ":: loading settings :: url = jar:file:/usr/local/lib/python3.12/dist-packages/pyspark/jars/ivy-2.5.1.jar!/org/apache/ivy/core/settings/ivysettings.xml\n",
            "Ivy Default Cache set to: /root/.ivy2/cache\n",
            "The jars for the packages stored in: /root/.ivy2/jars\n",
            "graphframes#graphframes added as a dependency\n",
            ":: resolving dependencies :: org.apache.spark#spark-submit-parent-de1be91f-b371-4008-8de6-1644c54b5b8d;1.0\n",
            "\tconfs: [default]\n",
            "\tfound graphframes#graphframes;0.8.4-spark3.5-s_2.12 in spark-packages\n",
            "\tfound org.slf4j#slf4j-api;1.7.16 in central\n",
            "downloading https://repos.spark-packages.org/graphframes/graphframes/0.8.4-spark3.5-s_2.12/graphframes-0.8.4-spark3.5-s_2.12.jar ...\n",
            "\t[SUCCESSFUL ] graphframes#graphframes;0.8.4-spark3.5-s_2.12!graphframes.jar (62ms)\n",
            "downloading https://repo1.maven.org/maven2/org/slf4j/slf4j-api/1.7.16/slf4j-api-1.7.16.jar ...\n",
            "\t[SUCCESSFUL ] org.slf4j#slf4j-api;1.7.16!slf4j-api.jar (128ms)\n",
            ":: resolution report :: resolve 2435ms :: artifacts dl 200ms\n",
            "\t:: modules in use:\n",
            "\tgraphframes#graphframes;0.8.4-spark3.5-s_2.12 from spark-packages in [default]\n",
            "\torg.slf4j#slf4j-api;1.7.16 from central in [default]\n",
            "\t---------------------------------------------------------------------\n",
            "\t|                  |            modules            ||   artifacts   |\n",
            "\t|       conf       | number| search|dwnlded|evicted|| number|dwnlded|\n",
            "\t---------------------------------------------------------------------\n",
            "\t|      default     |   2   |   2   |   2   |   0   ||   2   |   2   |\n",
            "\t---------------------------------------------------------------------\n",
            ":: retrieving :: org.apache.spark#spark-submit-parent-de1be91f-b371-4008-8de6-1644c54b5b8d\n",
            "\tconfs: [default]\n",
            "\t2 artifacts copied, 0 already retrieved (281kB/14ms)\n",
            "usage: submit-seriatim.py [-h] [-i ID] [-t TEXT] [--locs LOCS] [--pages PAGES]\n",
            "                          [-l N] [-u N] [-m N] [-n N] [--floating-ngrams]\n",
            "                          [--complete-lines] [-g N] [--max-offset N]\n",
            "                          [--beam N] [--pcopy p] [-a N] [--src-overlap p]\n",
            "                          [--dst-overlap p] [--fields FIELDS [FIELDS ...]]\n",
            "                          [-f FILTERPAIRS] [--all-pairs] [--pairwise]\n",
            "                          [--docwise] [--refpref] [--linewise] [--to-index]\n",
            "                          [--to-pairs] [--to-extents]\n",
            "                          [--link-model LINK_MODEL]\n",
            "                          [--link-features LINK_FEATURES]\n",
            "                          [--log-level {ERROR,WARN,INFO,DEBUG}]\n",
            "                          [--input-format INPUT_FORMAT]\n",
            "                          [--output-format OUTPUT_FORMAT]\n",
            "                          <path> <path>\n",
            "\n",
            "Passim Alignment\n",
            "\n",
            "positional arguments:\n",
            "  <path>                input data\n",
            "  <path>                output\n",
            "\n",
            "options:\n",
            "  -h, --help            show this help message and exit\n",
            "  -i ID, --id ID        Field for unique document IDs (default: id)\n",
            "  -t TEXT, --text TEXT  Field for document text (default: text)\n",
            "  --locs LOCS           Field for citable loci (default: locs)\n",
            "  --pages PAGES         Field for page location information (default: pages)\n",
            "  -l N, --minDF N       Lower limit on document frequency (default: 2)\n",
            "  -u N, --maxDF N       Upper limit on document frequency (default: 100)\n",
            "  -m N, --min-match N   Minimum number of n-gram matches between documents\n",
            "                        (default: 5)\n",
            "  -n N, --n N           n-gram order (default: 25)\n",
            "  --floating-ngrams     Allow n-grams to float from word boundaries (default:\n",
            "                        False)\n",
            "  --complete-lines      Break target alignments at line breaks (default:\n",
            "                        False)\n",
            "  -g N, --gap N         Minimum size of gap that separates passages (default:\n",
            "                        600)\n",
            "  --max-offset N        Maximum offset in global alignment [deprecated]\n",
            "                        (default: 20)\n",
            "  --beam N              Beam search width (default: 20)\n",
            "  --pcopy p             Probability of copying a character (default: 0.8)\n",
            "  -a N, --min-align N   Minimum length of alignment (default: 50)\n",
            "  --src-overlap p       Source overlap proportion (default: 0.9)\n",
            "  --dst-overlap p       Destination overlap proportion (default: 0.5)\n",
            "  --fields FIELDS [FIELDS ...]\n",
            "                        List of fields to index (default: [])\n",
            "  -f FILTERPAIRS, --filterpairs FILTERPAIRS\n",
            "                        SQL constraint on posting pairs (default: uid < uid2)\n",
            "  --all-pairs           Compute alignments for all pairs. (default: False)\n",
            "  --pairwise            Output pairwise alignments (default: False)\n",
            "  --docwise             Output docwise alignments (default: False)\n",
            "  --refpref             Reference texts aligned separately (default: False)\n",
            "  --linewise            Output linewise alignments (default: False)\n",
            "  --to-index            Output index and stop (default: False)\n",
            "  --to-pairs            Output pairs and stop (default: False)\n",
            "  --to-extents          Output extents and stop (default: False)\n",
            "  --link-model LINK_MODEL\n",
            "                        Link model in R format (default: None)\n",
            "  --link-features LINK_FEATURES\n",
            "                        Link model features as SQL SELECT (default: None)\n",
            "  --log-level {ERROR,WARN,INFO,DEBUG}\n",
            "                        spark log level (default: WARN)\n",
            "  --input-format INPUT_FORMAT\n",
            "                        Input format (default: json)\n",
            "  --output-format OUTPUT_FORMAT\n",
            "                        Output format (default: json)\n"
          ]
        }
      ]
    },
    {
      "cell_type": "code",
      "source": [
        "import json\n",
        "from urllib.request import urlopen\n",
        "import sys\n",
        "import passim"
      ],
      "metadata": {
        "id": "4gKjgWKV_OeG"
      },
      "execution_count": 5,
      "outputs": []
    },
    {
      "cell_type": "code",
      "source": [
        "import xml.etree.ElementTree as ET\n",
        "\n",
        "# Path to your uploaded file\n",
        "xml_path = \"/content/1.xml\"\n",
        "\n",
        "# Parse the XML\n",
        "tree = ET.parse(xml_path)\n",
        "root = tree.getroot()\n",
        "\n",
        "# Namespace (ALTO v4)\n",
        "ns = {'a': 'http://www.loc.gov/standards/alto/ns-v4#'}\n",
        "\n",
        "# Collect each line's words separately\n",
        "lines = []\n",
        "for textline in root.findall('.//a:TextLine', ns):\n",
        "    words = [el.attrib['CONTENT'] for el in textline.findall('.//a:String', ns)]\n",
        "    line_text = \" \".join(words)\n",
        "    lines.append(line_text)\n",
        "\n",
        "# Join all lines into one text block, keeping newlines\n",
        "raw_ocr = \"\\n\".join(lines)\n",
        "\n",
        "# Optional: print a preview\n",
        "print(raw_ocr[:500] + \"...\")\n",
        "print(f\"\\nTotal characters: {len(raw_ocr)}\")\n"
      ],
      "metadata": {
        "colab": {
          "base_uri": "https://localhost:8080/"
        },
        "id": "uP1-2JYL_4LF",
        "outputId": "69738aae-c24e-4f77-f1ed-f96fadd38c10"
      },
      "execution_count": 7,
      "outputs": [
        {
          "output_type": "stream",
          "name": "stdout",
          "text": [
            "L\n",
            "Pres Que missire Chaxles\n",
            "de mouy Cheuallier seigneur de la milleraye et uisadumral\n",
            "de france ent prins Les sermens et fanct iurez Les\n",
            "Cappitaine maistres et conpaignons desditz Namres\n",
            "de bien et Loyaulment soy porter au seruice du l\n",
            "soulz La charge dudit Cartier\n",
            "Dartimes du haure et port de zamet male anecques\n",
            "Iesdy deuy Namres duport demiron soixantr touueaulx\n",
            "t\n",
            "chameun esquippez Les deux de saixante ung homme Le\n",
            "uigntuesme four dapuois ondit ꝑo Illis Ciiq ceus teante...\n",
            "\n",
            "Total characters: 475\n"
          ]
        }
      ]
    },
    {
      "cell_type": "code",
      "source": [
        "print(raw_ocr)"
      ],
      "metadata": {
        "colab": {
          "base_uri": "https://localhost:8080/"
        },
        "id": "LkFomRNjAAjy",
        "outputId": "f5a0581e-3c03-491b-cc89-490e51bcf712"
      },
      "execution_count": 8,
      "outputs": [
        {
          "output_type": "stream",
          "name": "stdout",
          "text": [
            "L\n",
            "Pres Que missire Chaxles\n",
            "de mouy Cheuallier seigneur de la milleraye et uisadumral\n",
            "de france ent prins Les sermens et fanct iurez Les\n",
            "Cappitaine maistres et conpaignons desditz Namres\n",
            "de bien et Loyaulment soy porter au seruice du l\n",
            "soulz La charge dudit Cartier\n",
            "Dartimes du haure et port de zamet male anecques\n",
            "Iesdy deuy Namres duport demiron soixantr touueaulx\n",
            "t\n",
            "chameun esquippez Les deux de saixante ung homme Le\n",
            "uigntuesme four dapuois ondit ꝑo Illis Ciiq ceus teante\n"
          ]
        }
      ]
    },
    {
      "cell_type": "code",
      "source": [
        "\n",
        "# --- Load text from files instead of inline strings ---\n",
        "with open(\"/content/relation.txt\", encoding=\"utf-8\", newline=None) as f:\n",
        "    relation = f.read()\n",
        "\n",
        "docs = [\n",
        "    {\"id\": \"relation\", \"group\": \"authority\", \"text\": relation}\n",
        "]"
      ],
      "metadata": {
        "id": "qxabT7pd_QtT"
      },
      "execution_count": 10,
      "outputs": []
    },
    {
      "cell_type": "code",
      "source": [
        "# Add the ocr from the xml into the documents\n",
        "text = raw_ocr\n",
        "\n",
        "docs.append({\n",
        "    'id': '/ocr_msmoreau/f1',\n",
        "    'group': '/ocr_msmoreau',\n",
        "    'text': text\n",
        "})"
      ],
      "metadata": {
        "id": "oxjp_gRgAbNe"
      },
      "execution_count": 12,
      "outputs": []
    },
    {
      "cell_type": "code",
      "source": [
        "with open('in.json', 'w') as f:\n",
        "  for d in docs:\n",
        "    print(json.dumps(d), file=f)"
      ],
      "metadata": {
        "id": "7TpOQluUAlzm"
      },
      "execution_count": 13,
      "outputs": []
    },
    {
      "cell_type": "code",
      "source": [
        "# First deletes old output\n",
        "!rm -r out_cluster\n",
        "!SPARK_SUBMIT_ARGS=\"--driver-memory 8G --executor-memory 8G\" seriatim in.json out_cluster >& out_cluster.err"
      ],
      "metadata": {
        "id": "3fS768HeA5Oz",
        "colab": {
          "base_uri": "https://localhost:8080/"
        },
        "outputId": "03599179-4f8e-407d-90ea-c0bc2d14b732"
      },
      "execution_count": 14,
      "outputs": [
        {
          "output_type": "stream",
          "name": "stdout",
          "text": [
            "rm: cannot remove 'out_cluster': No such file or directory\n"
          ]
        }
      ]
    },
    {
      "cell_type": "code",
      "source": [
        "!rm -r out_cluster\n",
        "!SPARK_SUBMIT_ARGS=\"--driver-memory 8G --executor-memory 8G\" \\\n",
        "seriatim in.json out_cluster \\\n",
        "-n 15 \\\n",
        "-m 2 \\\n",
        ">& out_cluster.err"
      ],
      "metadata": {
        "id": "TqRxszf9CcNg"
      },
      "execution_count": 15,
      "outputs": []
    },
    {
      "cell_type": "code",
      "source": [
        "import glob, itertools\n",
        "\n",
        "# Read one JSON record per line\n",
        "def read_jsonl_file(f):\n",
        "  res = []\n",
        "  for line in f:\n",
        "    res.append(json.loads(line))\n",
        "  return res\n",
        "\n",
        "def read_jsonl(d):\n",
        "  return list(itertools.chain.from_iterable([read_jsonl_file(open(f)) for f in glob.glob(d + '/*.json')]))"
      ],
      "metadata": {
        "id": "wR_OUzD_A8te"
      },
      "execution_count": 16,
      "outputs": []
    },
    {
      "cell_type": "code",
      "source": [
        "read_jsonl('out_cluster/out.json')"
      ],
      "metadata": {
        "colab": {
          "base_uri": "https://localhost:8080/"
        },
        "id": "GRMHjMdaBCF_",
        "outputId": "6ea3858f-3231-4efa-e7fa-6797a90d4328"
      },
      "execution_count": 17,
      "outputs": [
        {
          "output_type": "execute_result",
          "data": {
            "text/plain": [
              "[{'uid': -1381474889189377111,\n",
              "  'cluster': 8589934592,\n",
              "  'begin': 2,\n",
              "  'end': 475,\n",
              "  'boiler': False,\n",
              "  'src': [{'uid': -4245069274104881227, 'begin': 29, 'end': 518}],\n",
              "  'size': 2,\n",
              "  'pboiler': 0.0,\n",
              "  'group': '/ocr_msmoreau',\n",
              "  'id': '/ocr_msmoreau/f1',\n",
              "  'text': 'Pres Que missire Chaxles\\nde mouy Cheuallier seigneur de la milleraye et uisadumral\\nde france ent prins Les sermens et fanct iurez Les\\nCappitaine maistres et conpaignons desditz Namres\\nde bien et Loyaulment soy porter au seruice du l\\nsoulz La charge dudit Cartier\\nDartimes du haure et port de zamet male anecques\\nIesdy deuy Namres duport demiron soixantr touueaulx\\nt\\nchameun esquippez Les deux de saixante ung homme Le\\nuigntuesme four dapuois ondit ꝑo Illis Ciiq ceus teante'},\n",
              " {'uid': -4245069274104881227,\n",
              "  'cluster': 8589934592,\n",
              "  'begin': 29,\n",
              "  'end': 518,\n",
              "  'boiler': False,\n",
              "  'src': [],\n",
              "  'size': 2,\n",
              "  'pboiler': 0.0,\n",
              "  'group': 'authority',\n",
              "  'id': 'relation',\n",
              "  'text': \"pres que Missire Charles de Mouy, chevallier, seigneur de la Milleraye\\net Visadmiral de France, eut prins les sermens et faict jurez les\\nCappitaine, maistres et compaignons desditz Nauires de bien et\\nloyaulment soy porter au seruice du Roy soubz la charge dudit Cartier,\\nPartimes du havre et port de Sainct Malo auecques lesdits deux nauires\\ndu port d'enuiron soixante tonneaulx chaincun, esquippez les deux de\\nsoixante ung homme, le vigntiesme jour d'Apuril oudit an, Mil cinq cens\\ntrante\"}]"
            ]
          },
          "metadata": {},
          "execution_count": 17
        }
      ]
    }
  ]
}